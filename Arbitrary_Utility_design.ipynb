{
  "cells": [
    {
      "cell_type": "code",
      "execution_count": 9,
      "metadata": {
        "collapsed": true,
        "id": "W16PtyCVIUwj"
      },
      "outputs": [],
      "source": [
        "from pulp import *\n",
        "import numpy as np\n",
        "import ArbitraryCode as ac"
      ]
    },
    {
      "cell_type": "code",
      "execution_count": 10,
      "metadata": {
        "id": "urFv8691ZvvJ"
      },
      "outputs": [],
      "source": [
        "# Number of classes, players in various classes, Information Graph\n",
        "k = 3;   #k should take vlaue in {2,3}\n",
        "if k==2:\n",
        "  c1 = 2;\n",
        "  c2 = 2;\n",
        "  C = np.array([c1,c2])\n",
        "  N_mat = np.array([[1,  0],[1, 1]])\n",
        "  n = np.sum(C)\n",
        "  N = np.zeros((1,k))\n",
        "elif k ==3:\n",
        "  c1 = 5;\n",
        "  c2 = 5;\n",
        "  c3 = 5;\n",
        "  C = np.array([c1,c2,c3])\n",
        "  N_mat = np.array([[1, 0, 0],[1, 1,0],[1, 1,1]])\n",
        "  n = np.sum(C)\n",
        "  N = np.zeros((1,k))\n",
        "else:\n",
        "  raise Exception('choose k from {2,3}')\n",
        "\n",
        "if np.trace(N_mat) !=k:\n",
        "  raise Exception('Invalid information graph -- any class must be able to observe the agents in the same class')\n",
        "\n",
        "for j in range(k):\n",
        "    N[0,j] = np.sum(N_mat[j]*C)\n",
        "\n",
        "# The basis function and utility design function\n",
        "d = 0\n",
        "w = np.arange(n+1)\n",
        "w = np.power(w,d)\n",
        "\n",
        "F = np.ones((k,n))\n",
        "F[:,:] = np.nan\n",
        "\n",
        "#last entry -- 1 for marginal contribution, 2 for equal share, 3 for all f being 1\n",
        "for j in range(k):\n",
        "  n = int(N[0,j])\n",
        "  F[j,0:n] = ac.Generate_f(n,w,2)\n"
      ]
    },
    {
      "cell_type": "code",
      "execution_count": 11,
      "metadata": {},
      "outputs": [
        {
          "name": "stdout",
          "output_type": "stream",
          "text": [
            "PoA is 0.3125 \n",
            "Chosen mechanism is \n",
            "\n",
            "[[1.         0.5        0.33333333 0.25       0.2               nan\n",
            "         nan        nan        nan        nan        nan        nan\n",
            "         nan        nan        nan]\n",
            " [1.         0.5        0.33333333 0.25       0.2        0.16666667\n",
            "  0.14285714 0.125      0.11111111 0.1               nan        nan\n",
            "         nan        nan        nan]\n",
            " [1.         0.5        0.33333333 0.25       0.2        0.16666667\n",
            "  0.14285714 0.125      0.11111111 0.1        0.09090909 0.08333333\n",
            "  0.07692308 0.07142857 0.06666667]]\n"
          ]
        }
      ],
      "source": [
        "poa = ac.ArbitraryComputingPoA(C,N_mat,F,w)\n",
        "print('PoA is', poa,'\\nChosen mechanism is \\n')\n",
        "print(F)"
      ]
    },
    {
      "cell_type": "code",
      "execution_count": 12,
      "metadata": {
        "colab": {
          "base_uri": "https://localhost:8080/"
        },
        "id": "5k0i5aHwZL1W",
        "outputId": "5b5b57fe-a3b3-4f5c-ee6d-f7642fb4918c"
      },
      "outputs": [
        {
          "name": "stdout",
          "output_type": "stream",
          "text": [
            "Optimal PoA is 0.5 \n",
            "Optimal mechanism is \n",
            "\n",
            "[[ 1.         -0.          0.33333333  0.25       -0.                 nan\n",
            "          nan         nan         nan         nan         nan         nan\n",
            "          nan         nan         nan]\n",
            " [ 1.         -0.         -0.         -0.         -0.         -0.\n",
            "  -0.         -0.         -0.          0.2                nan         nan\n",
            "          nan         nan         nan]\n",
            " [ 1.         -0.         -0.         -0.         -0.         -0.\n",
            "  -0.         -0.         -0.         -0.         -0.         -0.\n",
            "  -0.         -0.          0.        ]]\n"
          ]
        }
      ],
      "source": [
        "opt_poa,fstar= ac.ArbitraryOptimizingPoA(C,N_mat,w)\n",
        "print('Optimal PoA is',opt_poa,'\\nOptimal mechanism is \\n')\n",
        "print(fstar)"
      ]
    }
  ],
  "metadata": {
    "colab": {
      "provenance": []
    },
    "kernelspec": {
      "display_name": "Python 3",
      "name": "python3"
    },
    "language_info": {
      "codemirror_mode": {
        "name": "ipython",
        "version": 3
      },
      "file_extension": ".py",
      "mimetype": "text/x-python",
      "name": "python",
      "nbconvert_exporter": "python",
      "pygments_lexer": "ipython3",
      "version": "3.12.7"
    }
  },
  "nbformat": 4,
  "nbformat_minor": 0
}
