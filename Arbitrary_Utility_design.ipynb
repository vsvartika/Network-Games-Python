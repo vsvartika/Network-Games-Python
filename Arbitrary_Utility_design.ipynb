{
  "cells": [
    {
      "cell_type": "code",
      "execution_count": 1,
      "metadata": {
        "collapsed": true,
        "id": "W16PtyCVIUwj"
      },
      "outputs": [],
      "source": [
        "from pulp import *\n",
        "import numpy as np\n",
        "import ArbitraryCode as ac"
      ]
    },
    {
      "cell_type": "code",
      "execution_count": 2,
      "metadata": {
        "id": "urFv8691ZvvJ"
      },
      "outputs": [],
      "source": [
        "# Number of classes, players in various classes, Information Graph\n",
        "k = 3;   #k should take vlaue in {2,3}\n",
        "if k==2:\n",
        "  c1 = 3;\n",
        "  c2 = 4;\n",
        "  C = np.array([c1,c2])\n",
        "  N_mat = np.array([[1,  0],[1, 1]])\n",
        "  n = np.sum(C)\n",
        "  N = np.zeros((k,1))\n",
        "elif k ==3:\n",
        "  c1 = 2;\n",
        "  c2 = 2;\n",
        "  c3 = 2;\n",
        "  C = np.array([c1,c2,c3])\n",
        "  N_mat = np.array([[1, 0, 0],[1, 1,1],[1, 0,1]])\n",
        "  n = np.sum(C)\n",
        "  N = np.zeros((1,k))\n",
        "else:\n",
        "  raise Exception('choose k from {2,3}')\n",
        "\n",
        "if np.trace(N_mat) !=k:\n",
        "  raise Exception('Invalid information graph -- any class must be able to observe the agents in the same class')\n",
        "\n",
        "for j in range(k):\n",
        "    N[0,j] = np.sum(N_mat[j,:]*C)\n"
      ]
    },
    {
      "cell_type": "code",
      "execution_count": 3,
      "metadata": {
        "colab": {
          "base_uri": "https://localhost:8080/"
        },
        "id": "5k0i5aHwZL1W",
        "outputId": "5b5b57fe-a3b3-4f5c-ee6d-f7642fb4918c"
      },
      "outputs": [],
      "source": [
        "# The basis function and utility design function\n",
        "d = 0\n",
        "w = np.arange(n+1)\n",
        "w = np.power(w,d)\n",
        "\n",
        "F = np.ones((k,n))\n",
        "F[:,:] = np.nan\n",
        "\n",
        "#last entry -- 1 for marginal contribution, 2 for equal share, 3 for all f being 1\n",
        "for j in range(k):\n",
        "  n = int(N[0,j])\n",
        "  F[j,0:n] = ac.Generate_f(n,w,1)"
      ]
    },
    {
      "cell_type": "code",
      "execution_count": 17,
      "metadata": {},
      "outputs": [
        {
          "ename": "KeyboardInterrupt",
          "evalue": "",
          "output_type": "error",
          "traceback": [
            "\u001b[1;31m---------------------------------------------------------------------------\u001b[0m",
            "\u001b[1;31mKeyboardInterrupt\u001b[0m                         Traceback (most recent call last)",
            "Cell \u001b[1;32mIn[17], line 74\u001b[0m\n\u001b[0;32m     70\u001b[0m     A[t,k] \u001b[38;5;241m=\u001b[39m \u001b[38;5;241m-\u001b[39mw_lp[At] \n\u001b[0;32m     72\u001b[0m   \u001b[38;5;28;01mreturn\u001b[39;00m B\n\u001b[1;32m---> 74\u001b[0m f \u001b[38;5;241m=\u001b[39m \u001b[43mArbitraryComputingPoA\u001b[49m\u001b[43m(\u001b[49m\u001b[43mC\u001b[49m\u001b[43m,\u001b[49m\u001b[43mN_mat\u001b[49m\u001b[43m,\u001b[49m\u001b[43mF\u001b[49m\u001b[43m,\u001b[49m\u001b[43mw\u001b[49m\u001b[43m)\u001b[49m\n\u001b[0;32m     76\u001b[0m \u001b[38;5;28mprint\u001b[39m(f)\n",
            "Cell \u001b[1;32mIn[17], line 66\u001b[0m, in \u001b[0;36mArbitraryComputingPoA\u001b[1;34m(C, N_mat, F, w)\u001b[0m\n\u001b[0;32m     64\u001b[0m \u001b[38;5;28;01mfor\u001b[39;00m j \u001b[38;5;129;01min\u001b[39;00m \u001b[38;5;28mrange\u001b[39m(k):\n\u001b[0;32m     65\u001b[0m   temp_idx \u001b[38;5;241m=\u001b[39m \u001b[38;5;28mint\u001b[39m(Atj[\u001b[38;5;241m0\u001b[39m,j])\n\u001b[1;32m---> 66\u001b[0m   \u001b[38;5;28;43mprint\u001b[39;49m(t,temp_idx)\n\u001b[0;32m     67\u001b[0m   A[t,j] \u001b[38;5;241m=\u001b[39m a[\u001b[38;5;241m0\u001b[39m,j]\u001b[38;5;241m*\u001b[39mf_lp[j,temp_idx\u001b[38;5;241m+\u001b[39m\u001b[38;5;241m1\u001b[39m] \u001b[38;5;241m-\u001b[39m b[\u001b[38;5;241m0\u001b[39m,j]\u001b[38;5;241m*\u001b[39mf_lp[j,temp_idx\u001b[38;5;241m+\u001b[39m\u001b[38;5;241m2\u001b[39m]  \n\u001b[0;32m     69\u001b[0m B[t] \u001b[38;5;241m=\u001b[39m \u001b[38;5;241m-\u001b[39m w_lp[Bt]\n",
            "File \u001b[1;32m<stringsource>:69\u001b[0m, in \u001b[0;36mcfunc.to_py.__Pyx_CFunc_b0409f__29_pydevd_sys_monitoring_cython_object__lParen__etc_to_py_4code_4line.wrap\u001b[1;34m()\u001b[0m\n",
            "File \u001b[1;32m_pydevd_sys_monitoring\\\\_pydevd_sys_monitoring_cython.pyx:1429\u001b[0m, in \u001b[0;36m_pydevd_sys_monitoring_cython._line_event\u001b[1;34m()\u001b[0m\n",
            "File \u001b[1;32m_pydevd_sys_monitoring\\\\_pydevd_sys_monitoring_cython.pyx:1550\u001b[0m, in \u001b[0;36m_pydevd_sys_monitoring_cython._internal_line_event\u001b[1;34m()\u001b[0m\n",
            "File \u001b[1;32m_pydevd_sys_monitoring\\\\_pydevd_sys_monitoring_cython.pyx:1906\u001b[0m, in \u001b[0;36m_pydevd_sys_monitoring_cython._do_wait_suspend\u001b[1;34m()\u001b[0m\n",
            "File \u001b[1;32m~\\AppData\\Local\\Packages\\PythonSoftwareFoundation.Python.3.12_qbz5n2kfra8p0\\LocalCache\\local-packages\\Python312\\site-packages\\debugpy\\_vendored\\pydevd\\pydevd.py:2197\u001b[0m, in \u001b[0;36mPyDB.do_wait_suspend\u001b[1;34m(self, thread, frame, event, arg, exception_type)\u001b[0m\n\u001b[0;32m   2194\u001b[0m             from_this_thread\u001b[38;5;241m.\u001b[39mappend(frame_custom_thread_id)\n\u001b[0;32m   2196\u001b[0m     \u001b[38;5;28;01mwith\u001b[39;00m \u001b[38;5;28mself\u001b[39m\u001b[38;5;241m.\u001b[39m_threads_suspended_single_notification\u001b[38;5;241m.\u001b[39mnotify_thread_suspended(thread_id, thread, stop_reason):\n\u001b[1;32m-> 2197\u001b[0m         keep_suspended \u001b[38;5;241m=\u001b[39m \u001b[38;5;28;43mself\u001b[39;49m\u001b[38;5;241;43m.\u001b[39;49m\u001b[43m_do_wait_suspend\u001b[49m\u001b[43m(\u001b[49m\u001b[43mthread\u001b[49m\u001b[43m,\u001b[49m\u001b[43m \u001b[49m\u001b[43mframe\u001b[49m\u001b[43m,\u001b[49m\u001b[43m \u001b[49m\u001b[43mevent\u001b[49m\u001b[43m,\u001b[49m\u001b[43m \u001b[49m\u001b[43marg\u001b[49m\u001b[43m,\u001b[49m\u001b[43m \u001b[49m\u001b[43mtrace_suspend_type\u001b[49m\u001b[43m,\u001b[49m\u001b[43m \u001b[49m\u001b[43mfrom_this_thread\u001b[49m\u001b[43m,\u001b[49m\u001b[43m \u001b[49m\u001b[43mframes_tracker\u001b[49m\u001b[43m)\u001b[49m\n\u001b[0;32m   2199\u001b[0m frames_list \u001b[38;5;241m=\u001b[39m \u001b[38;5;28;01mNone\u001b[39;00m\n\u001b[0;32m   2201\u001b[0m \u001b[38;5;28;01mif\u001b[39;00m keep_suspended:\n\u001b[0;32m   2202\u001b[0m     \u001b[38;5;66;03m# This means that we should pause again after a set next statement.\u001b[39;00m\n",
            "File \u001b[1;32m~\\AppData\\Local\\Packages\\PythonSoftwareFoundation.Python.3.12_qbz5n2kfra8p0\\LocalCache\\local-packages\\Python312\\site-packages\\debugpy\\_vendored\\pydevd\\pydevd.py:2266\u001b[0m, in \u001b[0;36mPyDB._do_wait_suspend\u001b[1;34m(self, thread, frame, event, arg, trace_suspend_type, from_this_thread, frames_tracker)\u001b[0m\n\u001b[0;32m   2263\u001b[0m                 queue\u001b[38;5;241m.\u001b[39mput(internal_cmd)\n\u001b[0;32m   2264\u001b[0m                 wait_timeout \u001b[38;5;241m=\u001b[39m TIMEOUT_FAST\n\u001b[1;32m-> 2266\u001b[0m         \u001b[43mnotify_event\u001b[49m\u001b[38;5;241;43m.\u001b[39;49m\u001b[43mwait\u001b[49m\u001b[43m(\u001b[49m\u001b[43mwait_timeout\u001b[49m\u001b[43m)\u001b[49m\n\u001b[0;32m   2267\u001b[0m         notify_event\u001b[38;5;241m.\u001b[39mclear()\n\u001b[0;32m   2269\u001b[0m \u001b[38;5;28;01mfinally\u001b[39;00m:\n",
            "File \u001b[1;32mC:\\Program Files\\WindowsApps\\PythonSoftwareFoundation.Python.3.12_3.12.2032.0_x64__qbz5n2kfra8p0\\Lib\\threading.py:655\u001b[0m, in \u001b[0;36mEvent.wait\u001b[1;34m(self, timeout)\u001b[0m\n\u001b[0;32m    653\u001b[0m signaled \u001b[38;5;241m=\u001b[39m \u001b[38;5;28mself\u001b[39m\u001b[38;5;241m.\u001b[39m_flag\n\u001b[0;32m    654\u001b[0m \u001b[38;5;28;01mif\u001b[39;00m \u001b[38;5;129;01mnot\u001b[39;00m signaled:\n\u001b[1;32m--> 655\u001b[0m     signaled \u001b[38;5;241m=\u001b[39m \u001b[38;5;28;43mself\u001b[39;49m\u001b[38;5;241;43m.\u001b[39;49m\u001b[43m_cond\u001b[49m\u001b[38;5;241;43m.\u001b[39;49m\u001b[43mwait\u001b[49m\u001b[43m(\u001b[49m\u001b[43mtimeout\u001b[49m\u001b[43m)\u001b[49m\n\u001b[0;32m    656\u001b[0m \u001b[38;5;28;01mreturn\u001b[39;00m signaled\n",
            "File \u001b[1;32mC:\\Program Files\\WindowsApps\\PythonSoftwareFoundation.Python.3.12_3.12.2032.0_x64__qbz5n2kfra8p0\\Lib\\threading.py:359\u001b[0m, in \u001b[0;36mCondition.wait\u001b[1;34m(self, timeout)\u001b[0m\n\u001b[0;32m    357\u001b[0m \u001b[38;5;28;01melse\u001b[39;00m:\n\u001b[0;32m    358\u001b[0m     \u001b[38;5;28;01mif\u001b[39;00m timeout \u001b[38;5;241m>\u001b[39m \u001b[38;5;241m0\u001b[39m:\n\u001b[1;32m--> 359\u001b[0m         gotit \u001b[38;5;241m=\u001b[39m \u001b[43mwaiter\u001b[49m\u001b[38;5;241;43m.\u001b[39;49m\u001b[43macquire\u001b[49m\u001b[43m(\u001b[49m\u001b[38;5;28;43;01mTrue\u001b[39;49;00m\u001b[43m,\u001b[49m\u001b[43m \u001b[49m\u001b[43mtimeout\u001b[49m\u001b[43m)\u001b[49m\n\u001b[0;32m    360\u001b[0m     \u001b[38;5;28;01melse\u001b[39;00m:\n\u001b[0;32m    361\u001b[0m         gotit \u001b[38;5;241m=\u001b[39m waiter\u001b[38;5;241m.\u001b[39macquire(\u001b[38;5;28;01mFalse\u001b[39;00m)\n",
            "\u001b[1;31mKeyboardInterrupt\u001b[0m: "
          ]
        }
      ],
      "source": [
        "def ArbitraryComputingPoA(C,N_mat,F,w):\n",
        "  k = C.shape[0] \n",
        "  n = np.sum(C)\n",
        "  N = np.zeros((1,k))\n",
        "  for j in range(k):\n",
        "    N[0,j] = np.sum(N_mat[j,:]*C)\n",
        "\n",
        "  f0 = F[0,0:int(N[0,0])]\n",
        "  f0 = np.append(0,f0)\n",
        "  f0 = np.append(f0,0)\n",
        "  f1 = F[1,0:int(N[0,1])]\n",
        "  f1 = np.append(0,f1)\n",
        "  f1 = np.append(f1,0)\n",
        "\n",
        "  if k==3:\n",
        "    f2 = F[2,0:int(N[0,2])]\n",
        "    f2 = np.append(0,f2)\n",
        "    f2 = np.append(f2,0)\n",
        "\n",
        "  mm = int(np.max(N))\n",
        "  f_lp = np.zeros((k,mm+2))\n",
        "\n",
        "  f_lp[0,0:(int(N[0,0])+2)] = f0\n",
        "  f_lp[1,0:(int(N[0,1])+2)] = f1\n",
        "  f_lp[2,0:(int(N[0,2])+2)] = f2\n",
        "\n",
        "  w_lp = np.append(0,w)\n",
        "\n",
        "  #the objective function\n",
        "  c = np.zeros((1,k))\n",
        "  c = np.append(c,1)\n",
        "\n",
        "  #the constraints\n",
        "  IR = ac.ArbtitraryIR(C)\n",
        "  numRowsIR = IR.shape[0]\n",
        "\n",
        "  B= np.zeros((numRowsIR+k,1))\n",
        "  A= np.zeros((numRowsIR+k,k+1))\n",
        "\n",
        "  for j in range(k):\n",
        "    A[-1-k+j,0] = -1\n",
        "    B[-1-k+j]   = 0\n",
        "  \n",
        "  for t in range(554,numRowsIR):\n",
        "    a = np.zeros((1,k))\n",
        "    x = np.zeros((1,k))\n",
        "    b = np.zeros((1,k))\n",
        "\n",
        "    for j in range(k):\n",
        "      idx = 3*(j+1)-3\n",
        "      a[0,j] = IR[t,idx]\n",
        "      x[0,j] = IR[t,idx+1]\n",
        "      b[0,j] = IR[t,idx+2]\n",
        "    \n",
        "    At = np.sum(np.add(a,x))+1\n",
        "    At = int(At)\n",
        "    Bt = np.sum(np.add(b,x))+1\n",
        "    Bt = int(Bt)\n",
        "\n",
        "    Atj = np.zeros((1,k))\n",
        "    for j in range(k):\n",
        "      Atj[0,j] = np.sum(N_mat[j,:]*np.add(a,x))\n",
        "\n",
        "    for j in range(k):\n",
        "      temp_idx = int(Atj[0,j])\n",
        "      print(t,temp_idx)\n",
        "      A[t,j] = a[0,j]*f_lp[j,temp_idx+1] - b[0,j]*f_lp[j,temp_idx+2]  \n",
        "\n",
        "    B[t] = - w_lp[Bt]\n",
        "    A[t,k] = -w_lp[At] \n",
        "  \n",
        "  return B\n",
        "\n",
        "f = ArbitraryComputingPoA(C,N_mat,F,w)\n",
        "\n",
        "print(f)"
      ]
    }
  ],
  "metadata": {
    "colab": {
      "provenance": []
    },
    "kernelspec": {
      "display_name": "Python 3",
      "name": "python3"
    },
    "language_info": {
      "codemirror_mode": {
        "name": "ipython",
        "version": 3
      },
      "file_extension": ".py",
      "mimetype": "text/x-python",
      "name": "python",
      "nbconvert_exporter": "python",
      "pygments_lexer": "ipython3",
      "version": "3.12.7"
    }
  },
  "nbformat": 4,
  "nbformat_minor": 0
}
