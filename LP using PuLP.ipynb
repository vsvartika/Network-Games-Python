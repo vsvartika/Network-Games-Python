{
  "cells": [
    {
      "cell_type": "markdown",
      "metadata": {
        "id": "kAmOCi_7VSsv"
      },
      "source": [
        "**Linear Programming using PulP and Numpy**\n",
        "\n",
        "The aim is to solve the following linear program min c^Tx s.t Ax <=b"
      ]
    },
    {
      "cell_type": "code",
      "execution_count": 8,
      "metadata": {
        "id": "0sS40bCMVMvd"
      },
      "outputs": [],
      "source": [
        "from pulp import *\n",
        "import numpy as np"
      ]
    },
    {
      "cell_type": "code",
      "execution_count": 9,
      "metadata": {
        "id": "2vaI7ATvWgl7"
      },
      "outputs": [],
      "source": [
        "#the inputs A,b and c\n",
        "A = np.array([[4,   2],\n",
        "              [1,   4]])\n",
        "\n",
        "b = np.transpose(np.array([[12,   6]]))\n",
        "c = np.transpose(np.array([[2,   3]]))\n"
      ]
    },
    {
      "cell_type": "code",
      "execution_count": 10,
      "metadata": {
        "id": "7nTlLUqyr6kM"
      },
      "outputs": [],
      "source": [
        "#verifying the validity of the imputs\n",
        "m = A.shape[0]     # no. of constraints\n",
        "n = A.shape[1]     # no. of variables\n",
        "\n",
        "if c.shape[0] != n or c.shape[1]!=1:\n",
        "  raise Exception('c must be a column vector of length',n,'Current dimenstions are',c.shape,'should be', (n,1))\n",
        "\n",
        "if b.shape[0] != m or b.shape[1]!=1:\n",
        "  raise Exception('b must be a column vector of length',m,'Current dimenstions are',b.shape,'should be', (m,1))"
      ]
    },
    {
      "cell_type": "code",
      "execution_count": 11,
      "metadata": {
        "id": "a4v7sG1DbY-N"
      },
      "outputs": [],
      "source": [
        "#Create variables #can add the lower and upper bound on the variable\n",
        "\n",
        "set_m = range(0,m )\n",
        "set_n = range(0,n)\n",
        "\n",
        "x = pulp.LpVariable.dicts(\"x\", set_n, cat='Continuous',lowBound=0)"
      ]
    },
    {
      "cell_type": "code",
      "execution_count": 12,
      "metadata": {
        "id": "uiEMPws7sOQL"
      },
      "outputs": [],
      "source": [
        "#Create problem\n",
        "prob = LpProblem(\"numpy_constraints\", LpMinimize)\n",
        "\n",
        "# The objective\n",
        "prob += lpSum([c[i]*x[i] for i in set_n])\n",
        "\n",
        "# Apply constraints\n",
        "for i in set_m:\n",
        "  prob += lpSum([A[i][j]*x[j] for j in set_n]) >= b[i]\n",
        "\n",
        "#print(prob)"
      ]
    },
    {
      "cell_type": "code",
      "execution_count": 13,
      "metadata": {
        "colab": {
          "base_uri": "https://localhost:8080/"
        },
        "id": "iwc88K20W0Lb",
        "outputId": "16962d5a-ab57-4a2b-f3f7-e5ed40da725f"
      },
      "outputs": [
        {
          "name": "stdout",
          "output_type": "stream",
          "text": [
            "Status: Optimal\n"
          ]
        }
      ],
      "source": [
        "# Solve problem\n",
        "prob.solve()\n",
        "\n",
        "x_soln = np.array([x[i].varValue for i in set_n])\n",
        "print ((\"Status:\"), LpStatus[prob.status])\n"
      ]
    },
    {
      "cell_type": "code",
      "execution_count": 14,
      "metadata": {
        "colab": {
          "base_uri": "https://localhost:8080/"
        },
        "id": "H-lddpk6a7Er",
        "outputId": "1539fe03-009e-48c0-d519-5925362b5d36"
      },
      "outputs": [
        {
          "name": "stdout",
          "output_type": "stream",
          "text": [
            "SOLUTION:\n",
            "\t\tx_0 = 2.5714286\n",
            "\t\tx_1 = 0.85714286\n",
            "\n",
            "\n",
            "OBJECTIVE VALUE: 7.71428578\n"
          ]
        }
      ],
      "source": [
        "# Print results:\n",
        "print('SOLUTION:')\n",
        "for v in prob.variables():\n",
        "    print(f'\\t\\t{v.name} = {v.varValue}')\n",
        "\n",
        "#print(\"x_soln: \")\n",
        "#print(x_soln)\n",
        "\n",
        "print('\\n') # Prints a blank line\n",
        "print(f'OBJECTIVE VALUE: {prob.objective.value()}')\n"
      ]
    },
    {
      "cell_type": "code",
      "execution_count": null,
      "metadata": {},
      "outputs": [],
      "source": []
    }
  ],
  "metadata": {
    "colab": {
      "provenance": []
    },
    "kernelspec": {
      "display_name": "Python 3",
      "name": "python3"
    },
    "language_info": {
      "codemirror_mode": {
        "name": "ipython",
        "version": 3
      },
      "file_extension": ".py",
      "mimetype": "text/x-python",
      "name": "python",
      "nbconvert_exporter": "python",
      "pygments_lexer": "ipython3",
      "version": "3.12.7"
    }
  },
  "nbformat": 4,
  "nbformat_minor": 0
}
